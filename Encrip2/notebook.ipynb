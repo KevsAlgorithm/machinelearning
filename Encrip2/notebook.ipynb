{
 "cells": [
  {
   "cell_type": "code",
   "execution_count": null,
   "metadata": {},
   "outputs": [],
   "source": [
    "#Este script cifra mediante CESAR\n",
    "\n",
    "#Aritmetica modular (posicion + saltos) % nElementos\n",
    "\n",
    "#              c=3  XYZABCDEFGHIJKLMNOPQRSTUVW\n",
    "#              c=4  WXYZABCDEFGHIJKLMNOPQRSTUV\n",
    "#              c=10 QRSTUVWXYZABCDEFGHIJKLMNOP\n",
    "\n",
    "from alfabetos import alfabeto_may\n",
    "alfabeto_cifrado = alfabeto_may()#\"ABCDEFGHIJKLMNOPQRSTUVWXYZ\" #Alfabeto cifrado\n",
    "\n",
    "mensaje = \"\"#Aqui va el texto plano\n",
    "mensaje_cifrado = \"\" #Aqui va el texto cifrado\n",
    "\n",
    "#Vamos a elegir la cantidad de desplazamientos\n",
    "clave = 3\n",
    "\n",
    "cifrado = True # Si es True, entonces se cifra (Desplazmoa a la derecha); Caso contrario, desciframos (Desplazamos a la izquierda)\n",
    "\n",
    "\n",
    "for letra in mensaje.upper(): #Para cada letra del mensaje\n",
    "\n",
    "\tif letra in alfabeto_cifrado: #Si la letra esta en el alfabeto\n",
    "\t\tposicion = alfabeto_cifrado.index(letra) #Obtenemos la posicion de la letra\n",
    "\n",
    "\t\tif cifrado == True:\n",
    "\t\t\tformula = (posicion + clave) % len(alfabeto_cifrado) #Desplazamos la posicion a la derecha\n",
    "\t\telse:\n",
    "\t\t\tformula = (posicion - clave) % len(alfabeto_cifrado) #Desplazamos la posicion a la izquierda\n",
    "\n",
    "\t\tmensaje_cifrado += alfabeto_cifrado[formula] #Obtenemos la nueva letra para esa posicion\n",
    "\n",
    "\telse: #Si la letra no esta\n",
    "\t\tmensaje_cifrado += letra\n",
    "\n",
    "print(\"Texto plano: {}\".format(mensaje))\n",
    "print(\"Texto cifrado: {}\".format(mensaje_cifrado))"
   ]
  }
 ],
 "metadata": {
  "kernelspec": {
   "display_name": "Python 3",
   "language": "python",
   "name": "python3"
  },
  "language_info": {
   "codemirror_mode": {
    "name": "ipython",
    "version": 3
   },
   "file_extension": ".py",
   "mimetype": "text/x-python",
   "name": "python",
   "nbconvert_exporter": "python",
   "pygments_lexer": "ipython3",
   "version": "3.8.3"
  }
 },
 "nbformat": 4,
 "nbformat_minor": 4
}
